{
 "cells": [
  {
   "cell_type": "markdown",
   "id": "b70cddd1",
   "metadata": {},
   "source": [
    "1. Escriba una función  que reciba la fecha de nacimiento de un a persona y calcule la edad de la persona"
   ]
  },
  {
   "cell_type": "code",
   "execution_count": 7,
   "id": "f42b4a1f",
   "metadata": {},
   "outputs": [
    {
     "name": "stdout",
     "output_type": "stream",
     "text": [
      "Introduzca su año de nacimiento 1996\n",
      "Su edad es:  27.0\n"
     ]
    }
   ],
   "source": [
    "fecha_nac =float(input('Introduzca su año de nacimiento '))\n",
    "\n",
    "def calcula_edad(x):\n",
    "    edad = 2023-x\n",
    "    return edad\n",
    "\n",
    "print('Su edad es: ', calcula_edad(fecha_nac))\n",
    "    "
   ]
  },
  {
   "cell_type": "markdown",
   "id": "a631f7c5",
   "metadata": {},
   "source": [
    "2. Crea una función EscribirCentrado, que reciba como parámetro un texto y lo escriba centrado en pantalla (suponiendo una anchura de 80 columnas; pista: deberás escribir 40 - longitud/2 espacios antes del texto).  \n"
   ]
  },
  {
   "cell_type": "code",
   "execution_count": 22,
   "id": "f127091d",
   "metadata": {},
   "outputs": [
    {
     "name": "stdout",
     "output_type": "stream",
     "text": [
      "introduzca un texto Hola\n",
      "                                      Hola\n"
     ]
    }
   ],
   "source": [
    "text =str(input('introduzca un texto '))\n",
    "def centrar_text(x):\n",
    "    espacios =int(40 - len(x)/2) #Note que definí espacios como int, si el elemento resultante fuese un float, mandaria un error ya que no puedo multiplicarlo por ''\n",
    "    return espacios\n",
    "\n",
    "print(' '*centrar_text(text)  + text)"
   ]
  },
  {
   "cell_type": "markdown",
   "id": "01826f62",
   "metadata": {},
   "source": [
    "3. Construya una función decorada que reciba un texto y lo escriba marcado con Markdown en itálica y resaltada (bold). Revise la lección de decoradores, no vista en clase."
   ]
  },
  {
   "cell_type": "code",
   "execution_count": 59,
   "id": "bcd854fb",
   "metadata": {},
   "outputs": [
    {
     "name": "stdout",
     "output_type": "stream",
     "text": [
      "introduzca un texto Hola\n"
     ]
    }
   ],
   "source": [
    "#from IPython.display import display, Markdown #necesario para imprimir como markdown\n",
    "\n",
    "texto =str(input('introduzca un texto '))\n",
    "\n",
    "def markdown_decorador(func):\n",
    "    def italic_bold(texto):\n",
    "        nuevo_texto = f\"**_{texto}_**\"\n",
    "        return func(nuevo_texto)\n",
    "    return italic_bold\n"
   ]
  },
  {
   "cell_type": "code",
   "execution_count": 60,
   "id": "72f0364a",
   "metadata": {},
   "outputs": [],
   "source": [
    "@markdown_decorador\n",
    "def texto_formateado(texto):\n",
    "    return texto"
   ]
  },
  {
   "cell_type": "code",
   "execution_count": 61,
   "id": "6d3edbcd",
   "metadata": {},
   "outputs": [
    {
     "name": "stdout",
     "output_type": "stream",
     "text": [
      "**_Hola_**\n"
     ]
    }
   ],
   "source": [
    "resultado = texto_formateado(texto)\n",
    "print(resultado)"
   ]
  },
  {
   "cell_type": "markdown",
   "id": "9d8aef70",
   "metadata": {},
   "source": [
    "4.  Crea un programa que pida dos número enteros al usuario y diga si alguno de ellos es múltiplo del otro. "
   ]
  },
  {
   "cell_type": "code",
   "execution_count": 12,
   "id": "0765865b",
   "metadata": {},
   "outputs": [
    {
     "name": "stdout",
     "output_type": "stream",
     "text": [
      "introduzca un número entero 1: 14\n",
      "introduzca un número entero 2: 7\n",
      "14 es múltiplo de  7\n"
     ]
    }
   ],
   "source": [
    "N=2\n",
    "num_list=[]\n",
    "for i in range(N):\n",
    "    num =int(input(f'introduzca un número entero {i+1}: '))\n",
    "    num_list.append(num)\n",
    "\n",
    "#print(num_list)\n",
    "if num_list[0]%num_list[1] ==0:\n",
    "    print(num_list[0],'es múltiplo de ',num_list[1])\n",
    "elif num_list[1]%num_list[0] ==0:\n",
    "    print(num_list[1],'es múltiplo de ', num_list[0])\n",
    "else:\n",
    "    print(\"Los números no son múltiplos entre sí.\")\n",
    "\n",
    "    \n"
   ]
  },
  {
   "cell_type": "markdown",
   "id": "e592347e",
   "metadata": {},
   "source": [
    "5. Crear una función re reciba una lista  de 24 valores de temperatura leída  hora en un día y que calcule la temperatura media  Cree una lista con 24 valores de temperatura de un día de Bogotá y pruebe su función. Invente los datos."
   ]
  },
  {
   "cell_type": "code",
   "execution_count": 22,
   "id": "af60b1de",
   "metadata": {},
   "outputs": [
    {
     "data": {
      "text/html": [
       "<div>\n",
       "<style scoped>\n",
       "    .dataframe tbody tr th:only-of-type {\n",
       "        vertical-align: middle;\n",
       "    }\n",
       "\n",
       "    .dataframe tbody tr th {\n",
       "        vertical-align: top;\n",
       "    }\n",
       "\n",
       "    .dataframe thead th {\n",
       "        text-align: right;\n",
       "    }\n",
       "</style>\n",
       "<table border=\"1\" class=\"dataframe\">\n",
       "  <thead>\n",
       "    <tr style=\"text-align: right;\">\n",
       "      <th></th>\n",
       "      <th>Hora</th>\n",
       "      <th>Temperatura</th>\n",
       "    </tr>\n",
       "  </thead>\n",
       "  <tbody>\n",
       "    <tr>\n",
       "      <th>0</th>\n",
       "      <td>00:00:00</td>\n",
       "      <td>5</td>\n",
       "    </tr>\n",
       "    <tr>\n",
       "      <th>1</th>\n",
       "      <td>01:00:00</td>\n",
       "      <td>4</td>\n",
       "    </tr>\n",
       "    <tr>\n",
       "      <th>2</th>\n",
       "      <td>02:00:00</td>\n",
       "      <td>5</td>\n",
       "    </tr>\n",
       "    <tr>\n",
       "      <th>3</th>\n",
       "      <td>03:00:00</td>\n",
       "      <td>6</td>\n",
       "    </tr>\n",
       "    <tr>\n",
       "      <th>4</th>\n",
       "      <td>04:00:00</td>\n",
       "      <td>7</td>\n",
       "    </tr>\n",
       "    <tr>\n",
       "      <th>5</th>\n",
       "      <td>05:00:00</td>\n",
       "      <td>7</td>\n",
       "    </tr>\n",
       "    <tr>\n",
       "      <th>6</th>\n",
       "      <td>06:00:00</td>\n",
       "      <td>9</td>\n",
       "    </tr>\n",
       "    <tr>\n",
       "      <th>7</th>\n",
       "      <td>07:00:00</td>\n",
       "      <td>13</td>\n",
       "    </tr>\n",
       "    <tr>\n",
       "      <th>8</th>\n",
       "      <td>08:00:00</td>\n",
       "      <td>14</td>\n",
       "    </tr>\n",
       "    <tr>\n",
       "      <th>9</th>\n",
       "      <td>09:00:00</td>\n",
       "      <td>17</td>\n",
       "    </tr>\n",
       "    <tr>\n",
       "      <th>10</th>\n",
       "      <td>10:00:00</td>\n",
       "      <td>19</td>\n",
       "    </tr>\n",
       "    <tr>\n",
       "      <th>11</th>\n",
       "      <td>11:00:00</td>\n",
       "      <td>21</td>\n",
       "    </tr>\n",
       "    <tr>\n",
       "      <th>12</th>\n",
       "      <td>12:00:00</td>\n",
       "      <td>23</td>\n",
       "    </tr>\n",
       "    <tr>\n",
       "      <th>13</th>\n",
       "      <td>13:00:00</td>\n",
       "      <td>24</td>\n",
       "    </tr>\n",
       "    <tr>\n",
       "      <th>14</th>\n",
       "      <td>14:00:00</td>\n",
       "      <td>21</td>\n",
       "    </tr>\n",
       "    <tr>\n",
       "      <th>15</th>\n",
       "      <td>15:00:00</td>\n",
       "      <td>20</td>\n",
       "    </tr>\n",
       "    <tr>\n",
       "      <th>16</th>\n",
       "      <td>16:00:00</td>\n",
       "      <td>16</td>\n",
       "    </tr>\n",
       "    <tr>\n",
       "      <th>17</th>\n",
       "      <td>17:00:00</td>\n",
       "      <td>14</td>\n",
       "    </tr>\n",
       "    <tr>\n",
       "      <th>18</th>\n",
       "      <td>18:00:00</td>\n",
       "      <td>12</td>\n",
       "    </tr>\n",
       "    <tr>\n",
       "      <th>19</th>\n",
       "      <td>19:00:00</td>\n",
       "      <td>10</td>\n",
       "    </tr>\n",
       "    <tr>\n",
       "      <th>20</th>\n",
       "      <td>20:00:00</td>\n",
       "      <td>7</td>\n",
       "    </tr>\n",
       "    <tr>\n",
       "      <th>21</th>\n",
       "      <td>21:00:00</td>\n",
       "      <td>6</td>\n",
       "    </tr>\n",
       "    <tr>\n",
       "      <th>22</th>\n",
       "      <td>22:00:00</td>\n",
       "      <td>5</td>\n",
       "    </tr>\n",
       "    <tr>\n",
       "      <th>23</th>\n",
       "      <td>23:00:00</td>\n",
       "      <td>5</td>\n",
       "    </tr>\n",
       "  </tbody>\n",
       "</table>\n",
       "</div>"
      ],
      "text/plain": [
       "        Hora  Temperatura\n",
       "0   00:00:00            5\n",
       "1   01:00:00            4\n",
       "2   02:00:00            5\n",
       "3   03:00:00            6\n",
       "4   04:00:00            7\n",
       "5   05:00:00            7\n",
       "6   06:00:00            9\n",
       "7   07:00:00           13\n",
       "8   08:00:00           14\n",
       "9   09:00:00           17\n",
       "10  10:00:00           19\n",
       "11  11:00:00           21\n",
       "12  12:00:00           23\n",
       "13  13:00:00           24\n",
       "14  14:00:00           21\n",
       "15  15:00:00           20\n",
       "16  16:00:00           16\n",
       "17  17:00:00           14\n",
       "18  18:00:00           12\n",
       "19  19:00:00           10\n",
       "20  20:00:00            7\n",
       "21  21:00:00            6\n",
       "22  22:00:00            5\n",
       "23  23:00:00            5"
      ]
     },
     "execution_count": 22,
     "metadata": {},
     "output_type": "execute_result"
    }
   ],
   "source": [
    "import pandas as pd\n",
    "list=r'C:\\Users\\Usuario\\Data Science\\Machine Learning and Deep Learning Course - UNAL\\Data\\Tarea3_tempBogota.xlsx'\n",
    "df=pd.read_excel(list)\n",
    "df"
   ]
  },
  {
   "cell_type": "code",
   "execution_count": 25,
   "id": "ed0e35a4",
   "metadata": {},
   "outputs": [
    {
     "name": "stdout",
     "output_type": "stream",
     "text": [
      "12.083333333333334\n"
     ]
    }
   ],
   "source": [
    "promedio = df['Temperatura'].mean()\n",
    "print(promedio)"
   ]
  },
  {
   "cell_type": "markdown",
   "id": "5135b64a",
   "metadata": {},
   "source": [
    "6. Crea un función “ConvertirEspaciado”, que reciba como parámetro un texto y devuelve una cadena con un espacio adicional tras cada letra. Por ejemplo, “Hola, tú” devolverá “H o l a , t ú “.  Pruebe "
   ]
  },
  {
   "cell_type": "code",
   "execution_count": 26,
   "id": "b7476032",
   "metadata": {},
   "outputs": [
    {
     "name": "stdout",
     "output_type": "stream",
     "text": [
      "introduzca un texto Hola, tú\n",
      "H o l a ,   t ú\n"
     ]
    }
   ],
   "source": [
    "text =str(input('introduzca un texto '))\n",
    "\n",
    "def ConvertirEspaciado(texto):\n",
    "    # Crear una cadena vacía para almacenar el resultado\n",
    "    resultado = \"\"\n",
    "\n",
    "    # Recorrer cada letra del texto y agregarla al resultado con un espacio adicional\n",
    "    for letra in texto:\n",
    "        resultado += letra + \" \"\n",
    "\n",
    "    # Eliminar el último espacio adicional y devolver el resultado\n",
    "    return resultado.strip() #strip se utiliza para eliminar los caracteres especificados o en este caso espacios en blanco\n",
    "print(ConvertirEspaciado(text))"
   ]
  },
  {
   "cell_type": "markdown",
   "id": "d95f7a57",
   "metadata": {},
   "source": [
    "6. Crea una función “calcularMaxMin” que recibe una arreglo con valores numérico y devuelve el valor máximo y el mínimo. "
   ]
  },
  {
   "cell_type": "code",
   "execution_count": 29,
   "id": "a095629e",
   "metadata": {},
   "outputs": [
    {
     "name": "stdout",
     "output_type": "stream",
     "text": [
      "Cuantos utilizará en el arreglo:5\n",
      "introduzca un número 1: -35\n",
      "introduzca un número 2: 1\n",
      "introduzca un número 3: 2\n",
      "introduzca un número 4: 5\n",
      "introduzca un número 5: 16\n",
      "(-35.0, 16.0)\n"
     ]
    }
   ],
   "source": [
    "N=int(input('Cuantos utilizará en el arreglo:'))\n",
    "num_list=[]\n",
    "for i in range(N):\n",
    "    num =float(input(f'introduzca un número {i+1}: '))\n",
    "    num_list.append(num)\n",
    "def calcularMaxMin(List):\n",
    "    #inicializamos los valores máx y min\n",
    "    Max=List[0]\n",
    "    Min=List[0]\n",
    "    \n",
    "    for num in num_list:\n",
    "        if num > Max:\n",
    "            Max =num\n",
    "        if num < Min:\n",
    "            Min =num\n",
    "    return (Min, Max)\n",
    "\n",
    "print(calcularMaxMin(num_list))"
   ]
  },
  {
   "cell_type": "markdown",
   "id": "33b316f4",
   "metadata": {},
   "source": [
    "8.  Diseñar una función que calcule el área y el perímetro de una circunferencia. "
   ]
  },
  {
   "cell_type": "code",
   "execution_count": 31,
   "id": "ae97c373",
   "metadata": {},
   "outputs": [
    {
     "name": "stdout",
     "output_type": "stream",
     "text": [
      "Introduzca el radio de la circunferencia: 16\n",
      "Su área es 804.247719318987 y su perimetro 100.53096491487338\n"
     ]
    }
   ],
   "source": [
    "#Supongamos que conocemos el radio de la circunferencia\n",
    "import numpy as np\n",
    "R=float(input('Introduzca el radio de la circunferencia: '))\n",
    "A=np.pi*R**2\n",
    "C=2*np.pi*R\n",
    "print('Su área es',A, 'y su perimetro',C)"
   ]
  },
  {
   "cell_type": "markdown",
   "id": "e512d2e2",
   "metadata": {},
   "source": [
    "9. Crear una función  llamada “Login”, que recibe un nombre de usuario y una contraseña y devuelva Verdadero si el nombre de usuario es “usuario1” y la contraseña es “asdasd”. Además recibe el número de intentos que se ha intentado hacer login y si no se ha podido hacer login incremente este valor."
   ]
  },
  {
   "cell_type": "code",
   "execution_count": 36,
   "id": "36aaf2ae",
   "metadata": {},
   "outputs": [
    {
     "name": "stdout",
     "output_type": "stream",
     "text": [
      "Introuzca su usuario: usuario1\n",
      "Introduzca su contraseña: kk\n",
      "usuario o contraseña incorrectas.\n",
      "Intento:  1\n",
      "Introuzca su usuario: kk\n",
      "Introduzca su contraseña: kk\n",
      "usuario o contraseña incorrectas.\n",
      "Intento:  2\n",
      "Introuzca su usuario: kk\n",
      "Introduzca su contraseña: kk\n",
      "usuario o contraseña incorrectas.\n",
      "Intento:  3\n",
      "Introuzca su usuario: usuario1\n",
      "Introduzca su contraseña: asdasd\n",
      "usuario y contraseña correctas\n"
     ]
    }
   ],
   "source": [
    "n=0\n",
    "def Login(usuario,contraseña,n):\n",
    "    if usuario == 'usuario1'and contraseña== 'asdasd':\n",
    "        return True\n",
    "    else:\n",
    "        n=n+1\n",
    "        print('usuario o contraseña incorrectas.')\n",
    "        print('Intento: ',n)\n",
    "        return False\n",
    "while True:\n",
    "    nom=input('Introuzca su usuario: ')\n",
    "    cont=input('Introduzca su contraseña: ')\n",
    "    if Login(nom,cont,n):\n",
    "        print('Usuario y contraseña correctas')\n",
    "        break\n",
    "    else:\n",
    "        n=n+1\n",
    "        \n",
    "    "
   ]
  },
  {
   "cell_type": "markdown",
   "id": "4e8ce7a6",
   "metadata": {},
   "source": [
    "10. Crear una función recursiva que permita calcular el factorial de un número. Realiza un programa principal donde se lea un entero y se muestre el resultado del factorial. Revise la lección de funciones."
   ]
  },
  {
   "cell_type": "code",
   "execution_count": 41,
   "id": "0b2047fd",
   "metadata": {},
   "outputs": [
    {
     "name": "stdout",
     "output_type": "stream",
     "text": [
      "Introduzca un número entero: 6\n",
      "El valor de 6 ! es:  720\n"
     ]
    }
   ],
   "source": [
    "N=int(input('Introduzca un número entero: '))\n",
    "def factorial(n):\n",
    "    if n == 0:\n",
    "        return 1\n",
    "    else:\n",
    "        return n * factorial(n-1)\n",
    "    \n",
    "resultado= factorial(N)\n",
    "print('El valor de',N,'! es: ',resultado)\n"
   ]
  },
  {
   "cell_type": "markdown",
   "id": "dc579182",
   "metadata": {},
   "source": [
    "11. Escribir dos funciones que permitan calcular:\n",
    "\n",
    "-La cantidad de segundos en un tiempo dado en horas, minutos y segundos.\n",
    "\n",
    "-La cantidad de horas, minutos y segundos de un tiempo dado en segundos"
   ]
  },
  {
   "cell_type": "code",
   "execution_count": 61,
   "id": "c6eb53cb",
   "metadata": {},
   "outputs": [
    {
     "name": "stdout",
     "output_type": "stream",
     "text": [
      "Introduzca Horas, minutos y segundos separadas por una coma: 1,0,2\n",
      "El tiempo en segundo es 3602\n",
      "Introduzca tiempo en segundos: 500\n",
      "El tiempo en horas, minutos y segundos es:  (0, 8, 20)\n"
     ]
    }
   ],
   "source": [
    "hor=input('Introduzca Horas, minutos y segundos separadas por una coma: ')\n",
    "variables = [int(num) for num in hor.split(',')]\n",
    "hora=variables[0]\n",
    "minuto=variables[1]\n",
    "segundo=variables[2]\n",
    "def calcular_segundos(horas, minutos, segundos):\n",
    "    total_segundos = horas * 3600 + minutos * 60 + segundos\n",
    "    return total_segundos\n",
    "\n",
    "def calcular_tiempo(segundos):\n",
    "    horas = segundos // 3600\n",
    "    minutos = (segundos % 3600) // 60\n",
    "    segundos = (segundos % 3600) % 60\n",
    "    return horas, minutos, segundos\n",
    "\n",
    "print('El tiempo en segundo es',calcular_segundos(hora, minuto, segundo))\n",
    "\n",
    "seg=int(input('Introduzca tiempo en segundos: '))\n",
    "print('El tiempo en horas, minutos y segundos es: ',calcular_tiempo(seg))"
   ]
  },
  {
   "cell_type": "markdown",
   "id": "1a572e65",
   "metadata": {},
   "source": [
    "\n",
    "12. Crea una función  que lea una tupla, invierta los valores de la tupla y regrese una nueva tupla invirtiendo los valores. Recuerde que las tuplas son inmutables."
   ]
  },
  {
   "cell_type": "code",
   "execution_count": 56,
   "id": "c970c193",
   "metadata": {},
   "outputs": [
    {
     "name": "stdout",
     "output_type": "stream",
     "text": [
      "(3, 2, 1)\n"
     ]
    }
   ],
   "source": [
    "tupla_original = (1, 2, 3)\n",
    "\n",
    "def inv_tupla(tupla):\n",
    "    tupla_invertida = tuple(reversed(tupla)) #la función reversed se encarga de invertir los valores\n",
    "    return tupla_invertida\n",
    "\n",
    "tupla_invertida = inv_tupla(tupla_original)\n",
    "print(tupla_invertida) "
   ]
  },
  {
   "cell_type": "markdown",
   "id": "cb5cc1f6",
   "metadata": {},
   "source": [
    "13. Escriba una función que lea una lista y calcule la media geométrica de sus valores, usando funtools.reduce."
   ]
  },
  {
   "cell_type": "code",
   "execution_count": 73,
   "id": "48db283e",
   "metadata": {},
   "outputs": [
    {
     "name": "stdout",
     "output_type": "stream",
     "text": [
      "Introduzca números para lista separadas por una coma: 16,14,5,10\n",
      "Media geométrica 10.287373447220803\n",
      "Media aritmética 11.25\n",
      "logaritmo de la media geométrica 2.3309172643207967\n",
      "Media aritmetica de los logaritmos de las variables 2.3309172643207967\n"
     ]
    }
   ],
   "source": [
    "import functools\n",
    "import numpy as np\n",
    "\n",
    "array=input('Introduzca números para lista separadas por una coma: ')\n",
    "variables = [int(num) for num in array.split(',')]\n",
    "         \n",
    "def media_geometrica(lista):\n",
    "    multiplicacion = functools.reduce(lambda x, y: x * y, lista) #multiplica los elementos de la lista\n",
    "    n = len(lista)\n",
    "    media_g = multiplicacion ** (1/n)\n",
    "    return media_g\n",
    "         \n",
    "media_g =media_geometrica(variables)\n",
    "print('Media geométrica',media_g)\n",
    "\n",
    "#probar el resultado\n",
    "\n",
    "def media(lista):\n",
    "    avg =np.mean(lista)\n",
    "    return avg\n",
    "\n",
    "print('Media aritmética',media(variables))\n",
    "\n",
    "#como el logaritmo de la media geometrica es igual a la media aritmetica de los logaritmos de las variables\n",
    "log_mediageo=(np.log(media_g))\n",
    "log_mediagvar=np.log(variables)\n",
    "print('logaritmo de la media geométrica',log_mediageo)\n",
    "print('Media aritmetica de los logaritmos de las variables',media(log_mediagvar))\n"
   ]
  },
  {
   "cell_type": "code",
   "execution_count": null,
   "id": "09643be9",
   "metadata": {},
   "outputs": [],
   "source": []
  }
 ],
 "metadata": {
  "kernelspec": {
   "display_name": "Python 3 (ipykernel)",
   "language": "python",
   "name": "python3"
  },
  "language_info": {
   "codemirror_mode": {
    "name": "ipython",
    "version": 3
   },
   "file_extension": ".py",
   "mimetype": "text/x-python",
   "name": "python",
   "nbconvert_exporter": "python",
   "pygments_lexer": "ipython3",
   "version": "3.9.13"
  }
 },
 "nbformat": 4,
 "nbformat_minor": 5
}
