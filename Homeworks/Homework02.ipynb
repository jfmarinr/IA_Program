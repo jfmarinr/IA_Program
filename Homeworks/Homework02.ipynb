{
 "cells": [
  {
   "cell_type": "markdown",
   "id": "0c0dbaa7",
   "metadata": {},
   "source": [
    "## Empezando a programar\n",
    "\n",
    "### Juan Felipe Marin Rincón\n",
    "#### jfmarinri@unal.edu.co"
   ]
  },
  {
   "cell_type": "code",
   "execution_count": 17,
   "id": "f83ad294",
   "metadata": {
    "scrolled": true
   },
   "outputs": [
    {
     "name": "stdout",
     "output_type": "stream",
     "text": [
      "Ingrese un número para la primera variable 10\n",
      "Ingrese un número para la segunda variable 10\n",
      "Ingrese un número para la tercera variable 10\n",
      "el promedio es 10.0\n"
     ]
    }
   ],
   "source": [
    "#Creacion de variables\n",
    "num1=input('Ingrese un número para la primera variable ')\n",
    "num2=input('Ingrese un número para la segunda variable ')\n",
    "num3=input('Ingrese un número para la tercera variable ')\n",
    "\n",
    "f_num1=float(num1)\n",
    "f_num2=float(num2)\n",
    "f_num3=float(num3)\n",
    "#print(f_num1)\n",
    "\n",
    "avg= (f_num1+f_num2+f_num3)/3\n",
    "print('El promedio es',avg)"
   ]
  },
  {
   "cell_type": "markdown",
   "id": "a314c884",
   "metadata": {},
   "source": [
    "# Modificación del programa"
   ]
  },
  {
   "cell_type": "code",
   "execution_count": 25,
   "id": "cc2da95f",
   "metadata": {},
   "outputs": [
    {
     "name": "stdout",
     "output_type": "stream",
     "text": [
      "ingrese el número de variables a las que quiere sacarle el promedio 2\n",
      "Ingrese un número para la variable 1: 10\n",
      "Ingrese un número para la variable 2: 12\n",
      "Las variables ingresadas son:  [10.0, 12.0]\n",
      "El promedio es:  11.0\n"
     ]
    }
   ],
   "source": [
    "#Creacion de variables\n",
    "N=int(input('ingrese el número de variables a las que quiere sacarle el promedio '))\n",
    "\n",
    "#Creacion lista vacia\n",
    "variables =[]\n",
    "\n",
    "for i in range(N):\n",
    "    num =float(input(f'Ingrese un número para la variable {i+1}: ')) #la letra f antes de una cadena de texto permite incluir valores de variables dentro de la cadena\n",
    "    variables.append(num) #agrego los números a la lista vacia\n",
    "print('Las variables ingresadas son: ',variables)   \n",
    "\n",
    "avg= sum(variables)/N\n",
    "\n",
    "print('El promedio es: ',avg)"
   ]
  },
  {
   "cell_type": "markdown",
   "id": "4ae09ac1",
   "metadata": {},
   "source": [
    "# Parte 2\n",
    "\n",
    "**1.** Modifica el código anterior para que en lugar de pedir al usuario que ingrese tres números, pida que ingrese una lista de números separados por comas. Puedes usar la función \"input\" para leer la entrada del usuario y la función \"split\" para separar los números en la lista.\n",
    "\n",
    "**2.** Calcula el promedio de la lista de números utilizando un bucle \"for\" para iterar sobre los elementos de la lista y sumarlos. Luego, divide la suma entre la longitud de la lista para obtener el promedio.\n",
    "\n",
    "**3.** Crea una nueva lista llamada \"mayores_al_promedio\" que contenga los números de la lista original que están por encima del promedio. Para hacer esto, utiliza un bucle \"for\" para iterar sobre los elementos de la lista y un condicional \"if\" para verificar si el número es mayor que el promedio.\n",
    "\n",
    "**4.** Muestra el resultado en la pantalla con un mensaje descriptivo. Puedes usar la función \"join\" para concatenar los números en la lista separados por comas.\n"
   ]
  },
  {
   "cell_type": "code",
   "execution_count": 41,
   "id": "854c2b00",
   "metadata": {},
   "outputs": [
    {
     "name": "stdout",
     "output_type": "stream",
     "text": [
      "Ingrese una lista de números separados por una coma: 16,10,2,22\n",
      "El promedio de los números ingresados es:  12.5\n",
      "Los números mayores al promedio son:  [16.0, 22.0]\n"
     ]
    }
   ],
   "source": [
    "N = input(\"Ingrese una lista de números separados por una coma: \")\n",
    "# Convertimos la cadena de texto en una lista de números\n",
    "variables = [float(num) for num in N.split(',')] #en el argumento del split pongo el caracter que me va a separar los números\n",
    "#print(variables)\n",
    "suma =0\n",
    "for num in variables:\n",
    "    suma = suma+num\n",
    "avg=suma/len(variables)\n",
    "print('El promedio de los números ingresados es: ', avg)\n",
    "    \n",
    "#mayores al promedio\n",
    "mayores =[]\n",
    "for num in variables:\n",
    "    if num>avg:\n",
    "        mayores.append(num)\n",
    "print('Los números mayores al promedio son: ',mayores)\n",
    "\n",
    "#una mejor alternativa para el promedio\n",
    "#avg= sum(variables)/len(variables)\n",
    "#print(avg)\n"
   ]
  },
  {
   "cell_type": "code",
   "execution_count": null,
   "id": "c2da6335",
   "metadata": {},
   "outputs": [],
   "source": []
  }
 ],
 "metadata": {
  "kernelspec": {
   "display_name": "Python 3 (ipykernel)",
   "language": "python",
   "name": "python3"
  },
  "language_info": {
   "codemirror_mode": {
    "name": "ipython",
    "version": 3
   },
   "file_extension": ".py",
   "mimetype": "text/x-python",
   "name": "python",
   "nbconvert_exporter": "python",
   "pygments_lexer": "ipython3",
   "version": "3.9.13"
  }
 },
 "nbformat": 4,
 "nbformat_minor": 5
}
